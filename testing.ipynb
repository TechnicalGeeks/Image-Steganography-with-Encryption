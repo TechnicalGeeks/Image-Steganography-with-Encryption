{
 "cells": [
  {
   "cell_type": "code",
   "execution_count": 71,
   "metadata": {},
   "outputs": [],
   "source": [
    "import numpy as np\n",
    "import matplotlib\n",
    "import matplotlib.image as mpimg\n",
    "import matplotlib.pyplot as plt\n",
    "import copy"
   ]
  },
  {
   "cell_type": "code",
   "execution_count": 72,
   "metadata": {},
   "outputs": [],
   "source": [
    "class PlayBig_17:\n",
    "  def __init__(self,key):\n",
    "    self.mat='' \n",
    "    self.a=[]\n",
    "    self.key=key\n",
    "    \n",
    "  def preprocessing(self,plaintext):\n",
    "    for i in range(len(plaintext)-2):\n",
    "      if plaintext[i]==plaintext[i+1]:\n",
    "        plaintext=plaintext[:i+1]+'x'+plaintext[i+1:]\n",
    "    if len(plaintext)%2==1:\n",
    "      plaintext+='x'\n",
    "    return plaintext\n",
    "  \n",
    "  def postprocessing(self,plaintext):\n",
    "    if plaintext[-1]=='x':\n",
    "      plaintext = plaintext[:-1]   \n",
    "    for i in range(1,len(plaintext)-3):\n",
    "      if plaintext[i]=='x':\n",
    "        if plaintext[i-1]==plaintext[i+1]:    \n",
    "          plaintext=plaintext[:i]+plaintext[i+1:]\n",
    "    return plaintext\n",
    "        \n",
    "  def createMatrix(self):\n",
    "    key1=set(self.key)\n",
    "    tmp='abcdefghijklmnopqrstuvwxyz0123456789 +-*/%()?=,\\t'\n",
    "    set1=set(tmp)\n",
    "    set2=set1-key1\n",
    "    mat=''.join(key1)+''.join(set2)\n",
    "  \n",
    "    a=[]\n",
    "    # error\n",
    "    for i in range(7):\n",
    "      tmp=[]\n",
    "      for j in range(7):\n",
    "        tmp.append(mat[(7*i)+j])\n",
    "      a.append(tmp)\n",
    "    self.a=a\n",
    "    self.mat=mat\n",
    "\n",
    "  \n",
    "  def locate(self,b,c):\n",
    "    b,c=self.mat.index(b),self.mat.index(c)\n",
    "    b=[b//7,b%7]\n",
    "    c=[c//7,c%7]\n",
    "    return b,c\n",
    "  \n",
    "  def substituteE(self,b,c): \n",
    "    a=self.a \n",
    "    if b[0]==c[0]:\n",
    "        d=a[b[0]][(b[1]+1)%7]\n",
    "        e=a[c[0]][(c[1]+1)%7]\n",
    "    if b[1]==c[1]:\n",
    "        d=a[(b[0]+1)%7][b[1]]\n",
    "        e=a[(c[0]+1)%7][c[1]]\n",
    "    if b[1]!=c[1] and b[0]!=c[0]:\n",
    "        d=a[b[0]][c[1]]\n",
    "        e=a[c[0]][b[1]]\n",
    "    return d,e\n",
    "\n",
    "  def substituteD(self,b,c):\n",
    "    d=''\n",
    "    e=''\n",
    "    a=self.a\n",
    "    if b[0]==c[0]:\n",
    "        d=a[b[0]][(b[1]-1)%7]\n",
    "        e=a[c[0]][(c[1]-1)%7]\n",
    "    if b[1]==c[1]:\n",
    "        d=a[(b[0]-1)%7][b[1]]\n",
    "        e=a[(c[0]-1)%7][c[1]]\n",
    "    if b[1]!=c[1] and b[0]!=c[0]:\n",
    "        d=a[b[0]][c[1]]\n",
    "        e=a[c[0]][b[1]]\n",
    "    return d,e\n",
    "\n",
    "  def encrypt(self,plaintext):\n",
    "    \n",
    "      ciphertext=''\n",
    "      for i in range(0,len(plaintext),2):\n",
    "          b,c=self.locate(plaintext[i],plaintext[i+1])\n",
    "          d,e=self.substituteE(b,c)\n",
    "          ciphertext+=d+e\n",
    "      return ciphertext\n",
    "  def decrpyt(self,ciphertext):\n",
    "      plaintext=''\n",
    "      for i in range(0,len(ciphertext),2):\n",
    "          b,c=self.locate(ciphertext[i],ciphertext[i+1])\n",
    "          d,e=self.substituteD(b,c)\n",
    "          plaintext+=d+e\n",
    "      return plaintext\n",
    "\n",
    "     \n",
    "  def stagno_img(self,img,binData):\n",
    "    flag=0\n",
    "    img1=copy.deepcopy(img)\n",
    "    len1=len(img)\n",
    "    len2=len(img[0])\n",
    "    len3=len(img[0][0])\n",
    "  \n",
    "    x=0\n",
    "    for i in range(len1):\n",
    "      for j in range(len2):\n",
    "        for k in range(len3):\n",
    "        \n",
    "          if x>=len(binData):\n",
    "            img1[i][j][k]+=10\n",
    "            flag=1\n",
    "            break\n",
    "          if binData[x]=='1': img1[i][j][k]-=1\n",
    "          x+=1\n",
    "        if flag==1:\n",
    "          break  \n",
    "      if flag==1:\n",
    "        break\n",
    "\n",
    "    # Output Images\n",
    "    # plt.imshow(img1)\n",
    "    # plt.show()\n",
    "    mpimg.imsave('encrypted.bmp',format='bmp',arr= img1)\n",
    "    mpimg.imsave('Original.bmp',format='bmp',arr= img)\n",
    "    # matplotlib.image.imsave('encrypted.jpg', img1)\n",
    "    return img1\n",
    "    # plt.imshow(img)\n",
    "    # plt.show()\n",
    "    \n",
    "  def stagno(self,img_path,encrypt):\n",
    "    data=encrypt\n",
    "    length=len(data)\n",
    " \n",
    "    binData=''.join(format(ord(i), '08b') for i in data)\n",
    "    img = mpimg.imread(img_path,format='jpg')\n",
    "    # plt.imshow(img)\n",
    "    img = np.asarray(img)  \n",
    "    return img,self.stagno_img(img,binData)\n",
    "  \n",
    "  \n",
    "  def stagno_decrypt(self,img1,img):\n",
    "    len1=len(img)\n",
    "    len2=len(img[0])\n",
    "    len3=len(img[0][0])\n",
    "\n",
    "    flag=0\n",
    "    decrypted=''\n",
    "    for i in range(len1):\n",
    "      for j in range(len2):\n",
    "        for k in range(len3):\n",
    "          if img1[i][j][k]-img[i][j][k]==10:\n",
    "            flag=1\n",
    "            break\n",
    "          val=img[i][j][k]-img1[i][j][k]\n",
    "         \n",
    "          decrypted+=str(val)\n",
    "        if flag==1:break\n",
    "      if flag==1:\n",
    "        break\n",
    "\n",
    "    \n",
    "    binary_int = int(decrypted, 2)\n",
    "    byte_number = binary_int.bit_length() + 7 // 8\n",
    "    binary_array = binary_int.to_bytes(byte_number, \"big\")\n",
    "    ascii_text = binary_array.decode()\n",
    "    return ascii_text.split('\\x00')[-1] \n",
    "    "
   ]
  },
  {
   "cell_type": "code",
   "execution_count": 73,
   "metadata": {},
   "outputs": [],
   "source": [
    "plaintext = open('data.txt','r').read()\n",
    "plaintext =plaintext.replace('\\n',' ')"
   ]
  },
  {
   "cell_type": "code",
   "execution_count": 74,
   "metadata": {},
   "outputs": [
    {
     "name": "stdout",
     "output_type": "stream",
     "text": [
      "Processed Plaintext   x helxlo wor3ld techini2cal gexeks1 hix\n",
      "\n",
      "Play fair cipher ewky1drdnk2nxpylkjk8loonco7yksd81ge kyzr\n"
     ]
    }
   ],
   "source": [
    "obj = PlayBig_16('geeks')\n",
    "\n",
    "# plaintext = open('test.txt','r').read()\n",
    "# plaintext = \"Hello saf afs sabf fsa sa\"\n",
    "# plaintext= file\n",
    "plaintext=plaintext.lower()\n",
    "\n",
    "plaintext = obj.preprocessing(plaintext=plaintext)\n",
    "print(\"Processed Plaintext \",plaintext)\n",
    "obj.createMatrix()\n",
    "cipher = obj.encrypt(plaintext=plaintext)\n",
    "print(\"\\nPlay fair cipher\",cipher)\n"
   ]
  },
  {
   "cell_type": "code",
   "execution_count": 75,
   "metadata": {},
   "outputs": [
    {
     "data": {
      "text/plain": [
       "49"
      ]
     },
     "execution_count": 75,
     "metadata": {},
     "output_type": "execute_result"
    }
   ],
   "source": [
    "len('abcdefghijklmnopqrstuvwxyz0123456789 +-*/%()?=,\\n\\t')"
   ]
  },
  {
   "cell_type": "code",
   "execution_count": 76,
   "metadata": {},
   "outputs": [
    {
     "name": "stdout",
     "output_type": "stream",
     "text": [
      "Stagno decrypted cipher  ewky1drdnk2nxpylkjk8loonco7yksd81ge kyzr\n",
      "Finally decrypted cipher :    hello wor3ld techini2cal geeks1 hi\n"
     ]
    },
    {
     "name": "stderr",
     "output_type": "stream",
     "text": [
      "C:\\Users\\Rushabh\\AppData\\Local\\Temp\\ipykernel_10792\\2122469097.py:147: RuntimeWarning: overflow encountered in ubyte_scalars\n",
      "  if img1[i][j][k]-img[i][j][k]==10:\n"
     ]
    }
   ],
   "source": [
    "import random\n",
    "# print(\"decrypted play fair\",obj.decrpyt(ciphertext=cipher))\n",
    "path='./images/img{}.jpg'.format(random.randint(1,7))\n",
    "img , img1 = obj.stagno(img_path=path,encrypt=cipher)\n",
    "img1 = np.asarray(mpimg.imread('encrypted.bmp'))\n",
    "cipher = obj.stagno_decrypt(img=img,img1=img1)\n",
    "print(\"Stagno decrypted cipher \",cipher)\n",
    "plaintext =obj.decrpyt(ciphertext=cipher)\n",
    "print(\"Finally decrypted cipher : \",obj.postprocessing(plaintext=plaintext))\n",
    "\n",
    "\n"
   ]
  }
 ],
 "metadata": {
  "interpreter": {
   "hash": "17e6414ee49732dd670b6c8a2e823a80fcca865627815f784f26dc9454c059f3"
  },
  "kernelspec": {
   "display_name": "Python 3.7.0 64-bit",
   "language": "python",
   "name": "python3"
  },
  "language_info": {
   "codemirror_mode": {
    "name": "ipython",
    "version": 3
   },
   "file_extension": ".py",
   "mimetype": "text/x-python",
   "name": "python",
   "nbconvert_exporter": "python",
   "pygments_lexer": "ipython3",
   "version": "3.9.7"
  },
  "orig_nbformat": 4
 },
 "nbformat": 4,
 "nbformat_minor": 2
}
